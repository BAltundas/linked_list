{
  "nbformat": 4,
  "nbformat_minor": 0,
  "metadata": {
    "colab": {
      "name": "LListExample.ipynb",
      "provenance": [],
      "authorship_tag": "ABX9TyO2qrIygoUcJd/NUSkHzoYb",
      "include_colab_link": true
    },
    "kernelspec": {
      "name": "python3",
      "display_name": "Python 3"
    }
  },
  "cells": [
    {
      "cell_type": "markdown",
      "metadata": {
        "id": "view-in-github",
        "colab_type": "text"
      },
      "source": [
        "<a href=\"https://colab.research.google.com/github/BAltundas/linked_list/blob/main/LListExample.ipynb\" target=\"_parent\"><img src=\"https://colab.research.google.com/assets/colab-badge.svg\" alt=\"Open In Colab\"/></a>"
      ]
    },
    {
      "cell_type": "markdown",
      "metadata": {
        "id": "WCDebBUzEmo_"
      },
      "source": [
        "Worked example on Linked List"
      ]
    },
    {
      "cell_type": "code",
      "metadata": {
        "id": "n9OvUHmZe8Id"
      },
      "source": [
        "class Node:\r\n",
        "    def __init__(self, dataval=None):\r\n",
        "        self.dataval = dataval\r\n",
        "        self.nextval = None"
      ],
      "execution_count": 1,
      "outputs": []
    },
    {
      "cell_type": "code",
      "metadata": {
        "id": "oS6vIVHwfB54"
      },
      "source": [
        "class SLinkedList:\r\n",
        "    def __init__(self):\r\n",
        "        self.headval = None\r\n",
        "        \r\n",
        "# Function to add node\r\n",
        "    def add(self,newdata):\r\n",
        "        cur_node = self.headval\r\n",
        "        if cur_node is None:\r\n",
        "          self.headval = Node(newdata)\r\n",
        "          return\r\n",
        "        while cur_node!= None:\r\n",
        "          old_node = cur_node\r\n",
        "          cur_node = cur_node.nextval\r\n",
        "        new_node = Node(newdata)\r\n",
        "        old_node.nextval = new_node  \r\n",
        "\r\n",
        "    def insert(self,ref_data,new_data):\r\n",
        "        new_node = Node(newdata)\r\n",
        "        cur_node = self.headval\r\n",
        "        while cur_node!=None:\r\n",
        "          if cur_node.dataval == ref_data:\r\n",
        "            prev_node = cur_node\r\n",
        "            next_node = cur_node.nextval\r\n",
        "            prev_node.nextval = new_node\r\n",
        "            new_node.nextval = next_node\r\n",
        "            return None\r\n",
        "          cur_node = cur_node.nextval\r\n",
        "          if cur_node.nextval ==None:\r\n",
        "            print('reference data is not in the linked list')\r\n",
        "            return\r\n",
        "        #NewNode2 = Node(newdata)\r\n",
        "        #NewNode2.nextval = middle_node\r\n",
        "        #middle_node.nextval = NewNode2\r\n",
        "\r\n",
        "    def remove(self,data):\r\n",
        "      cur_node = self.headval\r\n",
        "      if cur_node is None:\r\n",
        "          print('List is empty')\r\n",
        "          return None\r\n",
        "      # Removed entry is at the top\r\n",
        "      if cur_node.dataval == data:\r\n",
        "        cur_node = cur_node.nextval\r\n",
        "        self.headval = cur_node \r\n",
        "        cur_node = cur_node.nextval\r\n",
        "        if cur_node !=None:\r\n",
        "          self.headval.nextval =cur_node\r\n",
        "        else:\r\n",
        "          self.headval = None\r\n",
        "        return None\r\n",
        "      \r\n",
        "      #old_node = cur_node  # it is not the 1st\r\n",
        "      while True:\r\n",
        "        if cur_node.dataval != data:\r\n",
        "          old_node = cur_node\r\n",
        "          cur_node = cur_node.nextval\r\n",
        "          if cur_node is None:\r\n",
        "            print(data,' is not in the list')\r\n",
        "            return None\r\n",
        "        else:\r\n",
        "          cur_node = cur_node.nextval\r\n",
        "          old_node.nextval = cur_node\r\n",
        "          break\r\n",
        "\r\n",
        "# Print the linked list\r\n",
        "    def listprint(self):\r\n",
        "      L= []\r\n",
        "      printval = self.headval\r\n",
        "      while printval is not None:\r\n",
        "        L.append(printval.dataval)\r\n",
        "        printval = printval.nextval\r\n",
        "      #print(L)\r\n",
        "      return print('The curren list:','\\n',L)"
      ],
      "execution_count": 109,
      "outputs": []
    },
    {
      "cell_type": "markdown",
      "metadata": {
        "id": "aPJFP5gBeCT6"
      },
      "source": [
        "Alternative way of filling linked list"
      ]
    },
    {
      "cell_type": "code",
      "metadata": {
        "colab": {
          "base_uri": "https://localhost:8080/"
        },
        "id": "KRJl8JltTZh8",
        "outputId": "1d6833b8-1686-462a-c723-3192ebdc1cd8"
      },
      "source": [
        "mlist = SLinkedList()\r\n",
        "n1=Node(\"Mon\")\r\n",
        "mlist.headval = n1\r\n",
        "n2=Node(\"Tue\")\r\n",
        "n1.nextval = n2\r\n",
        "n3=Node(\"Wed\")\r\n",
        "n2.nextval = n3\r\n",
        "n4 = Node('Thu')\r\n",
        "n3.nextval = n4\r\n",
        "n5 = Node('Fri')\r\n",
        "n4.nextval =n5\r\n",
        "mlist.listprint()\r\n",
        "print('')\r\n",
        "mlist.add('M')\r\n",
        "mlist.add('T')\r\n",
        "mlist.listprint()"
      ],
      "execution_count": 73,
      "outputs": [
        {
          "output_type": "stream",
          "text": [
            "The curren list: \n",
            " ['Mon', 'Tue', 'Wed', 'Thu', 'Fri']\n",
            "\n",
            "The curren list: \n",
            " ['Mon', 'Tue', 'Wed', 'Thu', 'Fri', 'M', 'T']\n"
          ],
          "name": "stdout"
        }
      ]
    },
    {
      "cell_type": "code",
      "metadata": {
        "colab": {
          "base_uri": "https://localhost:8080/"
        },
        "id": "6oEJkLJF5dyp",
        "outputId": "628b4a1d-dc7f-450e-8ed9-43fee539635c"
      },
      "source": [
        "mlist.listprint()\r\n",
        "data ='Thu'\r\n",
        "print('\\n','Remove the entry: ', data)\r\n",
        "mlist.remove(data)\r\n",
        "mlist.listprint()"
      ],
      "execution_count": 74,
      "outputs": [
        {
          "output_type": "stream",
          "text": [
            "The curren list: \n",
            " ['Mon', 'Tue', 'Wed', 'Thu', 'Fri', 'M', 'T']\n",
            "\n",
            " Remove the entry:  Thu\n",
            "The curren list: \n",
            " ['Mon', 'Tue', 'Wed', 'Fri', 'M', 'T']\n"
          ],
          "name": "stdout"
        }
      ]
    },
    {
      "cell_type": "markdown",
      "metadata": {
        "id": "FZL4VnshdUKV"
      },
      "source": [
        "Making a linked list from a list"
      ]
    },
    {
      "cell_type": "code",
      "metadata": {
        "colab": {
          "base_uri": "https://localhost:8080/"
        },
        "id": "6uUDWbzNxd_w",
        "outputId": "0c64b8a1-cbc7-4efa-e78a-357562a09bab"
      },
      "source": [
        "mlist2 = SLinkedList()\r\n",
        "days = ['Mon','Tue', 'Wed', 'Thu','Fri','+','-','*']\r\n",
        "for day in days:\r\n",
        "  mlist2.add(day)\r\n",
        "mlist2.listprint()"
      ],
      "execution_count": 107,
      "outputs": [
        {
          "output_type": "stream",
          "text": [
            "The curren list: \n",
            " ['Mon', 'Tue', 'Wed', 'Thu', 'Fri', '+', '-', '*']\n"
          ],
          "name": "stdout"
        }
      ]
    },
    {
      "cell_type": "markdown",
      "metadata": {
        "id": "iK0FVluwdjva"
      },
      "source": [
        "Removing entries from a linked list"
      ]
    },
    {
      "cell_type": "code",
      "metadata": {
        "colab": {
          "base_uri": "https://localhost:8080/"
        },
        "id": "r9KeT_TIdiPX",
        "outputId": "f808891b-7455-4e2b-bd56-0696548a65eb"
      },
      "source": [
        "data ='Tue'\r\n",
        "print('\\n','Remove the entry: ', data)\r\n",
        "mlist.remove(data)\r\n",
        "mlist.listprint()"
      ],
      "execution_count": 79,
      "outputs": [
        {
          "output_type": "stream",
          "text": [
            "\n",
            " Remove the entry:  Tue\n",
            "Tue  is not in the list\n",
            "The curren list: \n",
            " ['Mon', 'Wed', 'Fri', 'M', 'T']\n"
          ],
          "name": "stdout"
        }
      ]
    },
    {
      "cell_type": "markdown",
      "metadata": {
        "id": "roxpDLL-eRr-"
      },
      "source": [
        "Insering new entries"
      ]
    },
    {
      "cell_type": "code",
      "metadata": {
        "colab": {
          "base_uri": "https://localhost:8080/",
          "height": 407
        },
        "id": "8F7nJuUsfPHI",
        "outputId": "e7fef8fa-723a-4b14-c38b-da3c7f17645b"
      },
      "source": [
        "#insert(self,ref_dataval,new_dataval):\r\n",
        "insert_data = 'Wed'\r\n",
        "ref_node = \"Fri\"\r\n",
        "mlist2.listprint()\r\n",
        "print(node_toInsert.dataval)\r\n",
        "mlist2.insert(ref_node_val,insert_data)\r\n",
        "mlist2.listprint()"
      ],
      "execution_count": 110,
      "outputs": [
        {
          "output_type": "stream",
          "text": [
            "The curren list: \n",
            " ['Mon', 'Tue', 'Wed', 'Thu', 'Fri', '+', '-', '*']\n",
            "Wed\n"
          ],
          "name": "stdout"
        },
        {
          "output_type": "error",
          "ename": "NameError",
          "evalue": "ignored",
          "traceback": [
            "\u001b[0;31m---------------------------------------------------------------------------\u001b[0m",
            "\u001b[0;31mNameError\u001b[0m                                 Traceback (most recent call last)",
            "\u001b[0;32m<ipython-input-110-031ca90bff1a>\u001b[0m in \u001b[0;36m<module>\u001b[0;34m()\u001b[0m\n\u001b[1;32m      4\u001b[0m \u001b[0mmlist2\u001b[0m\u001b[0;34m.\u001b[0m\u001b[0mlistprint\u001b[0m\u001b[0;34m(\u001b[0m\u001b[0;34m)\u001b[0m\u001b[0;34m\u001b[0m\u001b[0;34m\u001b[0m\u001b[0m\n\u001b[1;32m      5\u001b[0m \u001b[0mprint\u001b[0m\u001b[0;34m(\u001b[0m\u001b[0mnode_toInsert\u001b[0m\u001b[0;34m.\u001b[0m\u001b[0mdataval\u001b[0m\u001b[0;34m)\u001b[0m\u001b[0;34m\u001b[0m\u001b[0;34m\u001b[0m\u001b[0m\n\u001b[0;32m----> 6\u001b[0;31m \u001b[0mmlist2\u001b[0m\u001b[0;34m.\u001b[0m\u001b[0minsert\u001b[0m\u001b[0;34m(\u001b[0m\u001b[0mref_node_val\u001b[0m\u001b[0;34m,\u001b[0m\u001b[0minsert_data\u001b[0m\u001b[0;34m)\u001b[0m\u001b[0;34m\u001b[0m\u001b[0;34m\u001b[0m\u001b[0m\n\u001b[0m\u001b[1;32m      7\u001b[0m \u001b[0mmlist2\u001b[0m\u001b[0;34m.\u001b[0m\u001b[0mlistprint\u001b[0m\u001b[0;34m(\u001b[0m\u001b[0;34m)\u001b[0m\u001b[0;34m\u001b[0m\u001b[0;34m\u001b[0m\u001b[0m\n",
            "\u001b[0;32m<ipython-input-106-fd7dc632208d>\u001b[0m in \u001b[0;36minsert\u001b[0;34m(self, ref_data, new_data)\u001b[0m\n\u001b[1;32m     16\u001b[0m \u001b[0;34m\u001b[0m\u001b[0m\n\u001b[1;32m     17\u001b[0m     \u001b[0;32mdef\u001b[0m \u001b[0minsert\u001b[0m\u001b[0;34m(\u001b[0m\u001b[0mself\u001b[0m\u001b[0;34m,\u001b[0m\u001b[0mref_data\u001b[0m\u001b[0;34m,\u001b[0m\u001b[0mnew_data\u001b[0m\u001b[0;34m)\u001b[0m\u001b[0;34m:\u001b[0m\u001b[0;34m\u001b[0m\u001b[0;34m\u001b[0m\u001b[0m\n\u001b[0;32m---> 18\u001b[0;31m         \u001b[0;32mif\u001b[0m \u001b[0mmiddle_node\u001b[0m \u001b[0;32mis\u001b[0m \u001b[0;32mNone\u001b[0m\u001b[0;34m:\u001b[0m\u001b[0;34m\u001b[0m\u001b[0;34m\u001b[0m\u001b[0m\n\u001b[0m\u001b[1;32m     19\u001b[0m             \u001b[0mprint\u001b[0m\u001b[0;34m(\u001b[0m\u001b[0;34m\"The referenced node is absent from the list\"\u001b[0m\u001b[0;34m)\u001b[0m\u001b[0;34m\u001b[0m\u001b[0;34m\u001b[0m\u001b[0m\n\u001b[1;32m     20\u001b[0m             \u001b[0;32mreturn\u001b[0m\u001b[0;34m\u001b[0m\u001b[0;34m\u001b[0m\u001b[0m\n",
            "\u001b[0;31mNameError\u001b[0m: name 'middle_node' is not defined"
          ]
        }
      ]
    },
    {
      "cell_type": "markdown",
      "metadata": {
        "id": "FP1pgyiyerxQ"
      },
      "source": [
        "Working with linked list object"
      ]
    },
    {
      "cell_type": "code",
      "metadata": {
        "colab": {
          "base_uri": "https://localhost:8080/"
        },
        "id": "6Fho0pD8Dd0R",
        "outputId": "57dc830d-dbb1-4e9a-eeff-e3056f953bda"
      },
      "source": [
        "def display(list):\r\n",
        "  nlist = list.headval\r\n",
        "  L=[]\r\n",
        "  if list.headval!=None:\r\n",
        "    L.append(list.headval.dataval)\r\n",
        "  while nlist.nextval!=None:\r\n",
        "    nlist=nlist.nextval\r\n",
        "    L.append(nlist.dataval)\r\n",
        "  print(L)\r\n",
        "  return None\r\n",
        "\r\n",
        "display(mlist)\r\n"
      ],
      "execution_count": 97,
      "outputs": [
        {
          "output_type": "stream",
          "text": [
            "['Mon', 'Wed', 'Wed', 'Wed', 'Wed', 'Wed', 'Fri', 'M', 'T']\n"
          ],
          "name": "stdout"
        }
      ]
    }
  ]
}