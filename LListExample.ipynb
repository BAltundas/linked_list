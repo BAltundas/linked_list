{
  "nbformat": 4,
  "nbformat_minor": 0,
  "metadata": {
    "colab": {
      "name": "LListExample.ipynb",
      "provenance": [],
      "authorship_tag": "ABX9TyMyesJ2H/tiJgMJKjuK5E4i",
      "include_colab_link": true
    },
    "kernelspec": {
      "name": "python3",
      "display_name": "Python 3"
    }
  },
  "cells": [
    {
      "cell_type": "markdown",
      "metadata": {
        "id": "view-in-github",
        "colab_type": "text"
      },
      "source": [
        "<a href=\"https://colab.research.google.com/github/BAltundas/linked_list/blob/main/LListExample.ipynb\" target=\"_parent\"><img src=\"https://colab.research.google.com/assets/colab-badge.svg\" alt=\"Open In Colab\"/></a>"
      ]
    },
    {
      "cell_type": "code",
      "metadata": {
        "id": "n9OvUHmZe8Id"
      },
      "source": [
        "class Node:\r\n",
        "    def __init__(self, dataval=None):\r\n",
        "        self.dataval = dataval\r\n",
        "        self.nextval = None"
      ],
      "execution_count": 1,
      "outputs": []
    },
    {
      "cell_type": "code",
      "metadata": {
        "id": "oS6vIVHwfB54"
      },
      "source": [
        "class SLinkedList:\r\n",
        "    def __init__(self):\r\n",
        "        self.headval = None\r\n",
        "        \r\n",
        "# Function to add node\r\n",
        "    def add(self,newdata):\r\n",
        "        cur_node = self.headval\r\n",
        "        if cur_node is None:\r\n",
        "          self.headval = Node(newdata)\r\n",
        "          return\r\n",
        "        while cur_node!= None:\r\n",
        "          old_node = cur_node\r\n",
        "          cur_node = cur_node.nextval\r\n",
        "        new_node = Node(newdata)\r\n",
        "        old_node.nextval = new_node  \r\n",
        "\r\n",
        "    def insert(self,middle_node,newdata):\r\n",
        "        if middle_node is None:\r\n",
        "            print(\"The mentioned node is absent\")\r\n",
        "            return\r\n",
        "\r\n",
        "        NewNode = Node(newdata)\r\n",
        "        NewNode.nextval = middle_node.nextval\r\n",
        "        middle_node.nextval = NewNode\r\n",
        "\r\n",
        "    def remove(self,data):\r\n",
        "      cur_node = self.headval\r\n",
        "      if cur_node is None:\r\n",
        "          print('List is empty')\r\n",
        "          return None\r\n",
        "      if cur_node.dataval == data:\r\n",
        "        cur_node = cur_node.nextval\r\n",
        "        self.headval = cur_node \r\n",
        "        cur_node = cur_node.nextval\r\n",
        "        self.headval.nextval =cur_node\r\n",
        "        return None\r\n",
        "\r\n",
        "      old_node = cur_node\r\n",
        "      while True:\r\n",
        "        cur_node = cur_node.nextval\r\n",
        "      while cur_node.dataval != data:\r\n",
        "        old_node = cur_node\r\n",
        "        cur_node = cur_node.nextval\r\n",
        "      \r\n",
        "      if(cur_node.dataval!=data):\r\n",
        "        print('Node does not exist')\r\n",
        "        return None\r\n",
        "      cur_node = cur_node.nextval\r\n",
        "      old_node.nextval = cur_node\r\n",
        "\r\n",
        "# Print the linked list\r\n",
        "    def listprint(self):\r\n",
        "      L= []\r\n",
        "      printval = self.headval\r\n",
        "      while printval is not None:\r\n",
        "        L.append(printval.dataval)\r\n",
        "        printval = printval.nextval\r\n",
        "      print(L)"
      ],
      "execution_count": 6,
      "outputs": []
    },
    {
      "cell_type": "code",
      "metadata": {
        "colab": {
          "base_uri": "https://localhost:8080/"
        },
        "id": "KRJl8JltTZh8",
        "outputId": "7d8b0770-1109-447e-8957-3a75759e4a0e"
      },
      "source": [
        "mlist = SLinkedList()\r\n",
        "n1=Node(\"Mon\")\r\n",
        "mlist.headval = n1\r\n",
        "n2=Node(\"Tue\")\r\n",
        "n1.nextval = n2\r\n",
        "n3=Node(\"Wed\")\r\n",
        "n2.nextval = n3\r\n",
        "n4 = Node('Thu')\r\n",
        "n3.nextval = n4\r\n",
        "n5 = Node('Fri')\r\n",
        "n4.nextval =n5\r\n",
        "mlist.listprint()\r\n",
        "print('')\r\n",
        "mlist.add('M')\r\n",
        "mlist.add('T')\r\n",
        "mlist.listprint()"
      ],
      "execution_count": 7,
      "outputs": [
        {
          "output_type": "stream",
          "text": [
            "['Mon', 'Tue', 'Wed', 'Thu', 'Fri']\n",
            "\n",
            "['Mon', 'Tue', 'Wed', 'Thu', 'Fri', 'M', 'T']\n"
          ],
          "name": "stdout"
        }
      ]
    },
    {
      "cell_type": "code",
      "metadata": {
        "colab": {
          "base_uri": "https://localhost:8080/",
          "height": 407
        },
        "id": "6oEJkLJF5dyp",
        "outputId": "1d1f5857-b8da-4867-cc95-760a9a1ce421"
      },
      "source": [
        "mlist.listprint()\r\n",
        "data ='Thu'\r\n",
        "print('\\n','Remove the entry: ', data)\r\n",
        "mlist.remove(data)\r\n",
        "mlist.listprint()"
      ],
      "execution_count": 12,
      "outputs": [
        {
          "output_type": "stream",
          "text": [
            "['Wed', 'Thu', 'Fri', 'M', 'T']\n",
            "\n",
            " Remove the entry:  Thu\n"
          ],
          "name": "stdout"
        },
        {
          "output_type": "error",
          "ename": "AttributeError",
          "evalue": "ignored",
          "traceback": [
            "\u001b[0;31m---------------------------------------------------------------------------\u001b[0m",
            "\u001b[0;31mAttributeError\u001b[0m                            Traceback (most recent call last)",
            "\u001b[0;32m<ipython-input-12-a49d3f4c86fb>\u001b[0m in \u001b[0;36m<module>\u001b[0;34m()\u001b[0m\n\u001b[1;32m      2\u001b[0m \u001b[0mdata\u001b[0m \u001b[0;34m=\u001b[0m\u001b[0;34m'Thu'\u001b[0m\u001b[0;34m\u001b[0m\u001b[0;34m\u001b[0m\u001b[0m\n\u001b[1;32m      3\u001b[0m \u001b[0mprint\u001b[0m\u001b[0;34m(\u001b[0m\u001b[0;34m'\\n'\u001b[0m\u001b[0;34m,\u001b[0m\u001b[0;34m'Remove the entry: '\u001b[0m\u001b[0;34m,\u001b[0m \u001b[0mdata\u001b[0m\u001b[0;34m)\u001b[0m\u001b[0;34m\u001b[0m\u001b[0;34m\u001b[0m\u001b[0m\n\u001b[0;32m----> 4\u001b[0;31m \u001b[0mmlist\u001b[0m\u001b[0;34m.\u001b[0m\u001b[0mremove\u001b[0m\u001b[0;34m(\u001b[0m\u001b[0mdata\u001b[0m\u001b[0;34m)\u001b[0m\u001b[0;34m\u001b[0m\u001b[0;34m\u001b[0m\u001b[0m\n\u001b[0m\u001b[1;32m      5\u001b[0m \u001b[0mmlist\u001b[0m\u001b[0;34m.\u001b[0m\u001b[0mlistprint\u001b[0m\u001b[0;34m(\u001b[0m\u001b[0;34m)\u001b[0m\u001b[0;34m\u001b[0m\u001b[0;34m\u001b[0m\u001b[0m\n",
            "\u001b[0;32m<ipython-input-6-2a5236f52813>\u001b[0m in \u001b[0;36mremove\u001b[0;34m(self, data)\u001b[0m\n\u001b[1;32m     38\u001b[0m       \u001b[0mold_node\u001b[0m \u001b[0;34m=\u001b[0m \u001b[0mcur_node\u001b[0m\u001b[0;34m\u001b[0m\u001b[0;34m\u001b[0m\u001b[0m\n\u001b[1;32m     39\u001b[0m       \u001b[0;32mwhile\u001b[0m \u001b[0;32mTrue\u001b[0m\u001b[0;34m:\u001b[0m\u001b[0;34m\u001b[0m\u001b[0;34m\u001b[0m\u001b[0m\n\u001b[0;32m---> 40\u001b[0;31m         \u001b[0mcur_node\u001b[0m \u001b[0;34m=\u001b[0m \u001b[0mcur_node\u001b[0m\u001b[0;34m.\u001b[0m\u001b[0mnextval\u001b[0m\u001b[0;34m\u001b[0m\u001b[0;34m\u001b[0m\u001b[0m\n\u001b[0m\u001b[1;32m     41\u001b[0m       \u001b[0;32mwhile\u001b[0m \u001b[0mcur_node\u001b[0m\u001b[0;34m.\u001b[0m\u001b[0mdataval\u001b[0m \u001b[0;34m!=\u001b[0m \u001b[0mdata\u001b[0m\u001b[0;34m:\u001b[0m\u001b[0;34m\u001b[0m\u001b[0;34m\u001b[0m\u001b[0m\n\u001b[1;32m     42\u001b[0m         \u001b[0mold_node\u001b[0m \u001b[0;34m=\u001b[0m \u001b[0mcur_node\u001b[0m\u001b[0;34m\u001b[0m\u001b[0;34m\u001b[0m\u001b[0m\n",
            "\u001b[0;31mAttributeError\u001b[0m: 'NoneType' object has no attribute 'nextval'"
          ]
        }
      ]
    },
    {
      "cell_type": "code",
      "metadata": {
        "colab": {
          "base_uri": "https://localhost:8080/"
        },
        "id": "6uUDWbzNxd_w",
        "outputId": "ed2a1d53-520c-48b0-c763-d81b119c7475"
      },
      "source": [
        "mlist = SLinkedList()\r\n",
        "days = ['Mon','Tue', 'Wed', 'Thu','Fri']\r\n",
        "for day in days:\r\n",
        "  mlist.add(day)\r\n",
        "mlist.listprint()\r\n",
        "print('')\r\n",
        "mlist.add('+')\r\n",
        "mlist.add('*')\r\n",
        "mlist.listprint()"
      ],
      "execution_count": null,
      "outputs": [
        {
          "output_type": "stream",
          "text": [
            "Mon\n",
            "Tue\n",
            "Wed\n",
            "Thu\n",
            "Fri\n",
            "\n",
            "Mon\n",
            "Tue\n",
            "Wed\n",
            "Thu\n",
            "Fri\n",
            "+\n",
            "*\n"
          ],
          "name": "stdout"
        }
      ]
    },
    {
      "cell_type": "code",
      "metadata": {
        "colab": {
          "base_uri": "https://localhost:8080/"
        },
        "id": "r9KeT_TIdiPX",
        "outputId": "91abb790-1fdf-48f3-81c7-233c1f096a08"
      },
      "source": [
        "mlist.listprint()\r\n",
        "data ='Tue'\r\n",
        "print('\\n','Remove the entry: ', data)\r\n",
        "mlist.remove(data)\r\n",
        "mlist.listprint()"
      ],
      "execution_count": null,
      "outputs": [
        {
          "output_type": "stream",
          "text": [
            "Mon\n",
            "Tue\n",
            "Wed\n",
            "Thu\n",
            "+\n",
            "*\n",
            "\n",
            " Remove the entry:  Tue\n",
            "Mon\n",
            "Wed\n",
            "Thu\n",
            "+\n",
            "*\n"
          ],
          "name": "stdout"
        }
      ]
    },
    {
      "cell_type": "code",
      "metadata": {
        "colab": {
          "base_uri": "https://localhost:8080/"
        },
        "id": "Nb6TDPb-rGT0",
        "outputId": "59ec1568-be36-408c-e115-421b29c5b52d"
      },
      "source": [
        "\r\n",
        "node =mlist.headval\r\n",
        "print(node.dataval)\r\n",
        "node2 = node.nextval\r\n",
        "print(node2.dataval)\r\n",
        "node3 = node2.nextval\r\n",
        "print(node3.dataval)\r\n",
        "node4 = node3.nextval\r\n",
        "print(node4.dataval)\r\n",
        "node5 = node4.nextval\r\n",
        "print(node5.dataval)\r\n",
        "node6 = node5.nextval\r\n",
        "print(node6.dataval)"
      ],
      "execution_count": null,
      "outputs": [
        {
          "output_type": "stream",
          "text": [
            "Tue\n",
            "Wed\n",
            "Thu\n",
            "Fri\n",
            "M\n",
            "T\n"
          ],
          "name": "stdout"
        }
      ]
    },
    {
      "cell_type": "code",
      "metadata": {
        "colab": {
          "base_uri": "https://localhost:8080/"
        },
        "id": "8F7nJuUsfPHI",
        "outputId": "9bf6d84f-bf33-481c-8e71-ed1594b03d99"
      },
      "source": [
        "list.insert(n1.nextval,\"Wed\")\r\n",
        "list.listprint()"
      ],
      "execution_count": null,
      "outputs": [
        {
          "output_type": "stream",
          "text": [
            "Tue\n",
            "Mon\n",
            "Tue\n",
            "Wed\n",
            "Wed\n",
            "Wed\n",
            "Wed\n",
            "Th\n"
          ],
          "name": "stdout"
        }
      ]
    },
    {
      "cell_type": "code",
      "metadata": {
        "colab": {
          "base_uri": "https://localhost:8080/"
        },
        "id": "G5fT3i2ygilK",
        "outputId": "7a3c94c6-a15b-4e69-bad5-1f23fa62f290"
      },
      "source": [
        "mlist = SLinkedList()\r\n",
        "days = ['Mon','Tue', 'Wed', 'Thu','Fri']\r\n",
        "for day in days:\r\n",
        "  mlist.add(day)\r\n",
        "\r\n",
        "print('')\r\n",
        "mlist.add('+')\r\n",
        "mlist.add('*')\r\n",
        "mlist.listprint()"
      ],
      "execution_count": null,
      "outputs": [
        {
          "output_type": "stream",
          "text": [
            "\n",
            "Mon\n",
            "Tue\n",
            "Wed\n",
            "Thu\n",
            "Fri\n",
            "+\n",
            "*\n"
          ],
          "name": "stdout"
        }
      ]
    },
    {
      "cell_type": "code",
      "metadata": {
        "colab": {
          "base_uri": "https://localhost:8080/"
        },
        "id": "6Fho0pD8Dd0R",
        "outputId": "f3cbd330-5f7f-4d38-8636-7c87e21aec92"
      },
      "source": [
        "def display(list):\r\n",
        "  nlist = list.headval\r\n",
        "  L=[]\r\n",
        "  if list.headval!=None:\r\n",
        "    L.append(list.headval.dataval)\r\n",
        "  while nlist.nextval!=None:\r\n",
        "    nlist=nlist.nextval\r\n",
        "    L.append(nlist.dataval)\r\n",
        "  print(L)\r\n",
        "  return None\r\n",
        "\r\n",
        "display(mlist)\r\n"
      ],
      "execution_count": null,
      "outputs": [
        {
          "output_type": "stream",
          "text": [
            "['Mon', 'Tue', 'Wed', 'Thu', 'Fri', '+', '*']\n"
          ],
          "name": "stdout"
        }
      ]
    }
  ]
}